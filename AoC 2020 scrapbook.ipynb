{
 "cells": [
  {
   "cell_type": "markdown",
   "metadata": {},
   "source": [
    "# Day 7"
   ]
  },
  {
   "cell_type": "code",
   "execution_count": 95,
   "metadata": {},
   "outputs": [],
   "source": [
    "from collections import defaultdict\n",
    "\n",
    "class RuleParser():\n",
    "    \n",
    "    def __init__(self):\n",
    "        self.containment_tree = defaultdict(lambda: defaultdict(list))\n",
    "    \n",
    "        \n",
    "    def parse_row(self, row):\n",
    "        if row.strip()==\"\": return\n",
    "        row = row.replace(' bags', '').replace(' bag', '').replace('.','').strip()\n",
    "        outer, contents = row.split(' contain ')\n",
    "        content_rules = contents.split(', ')\n",
    "        for contained_rule in content_rules:\n",
    "            words = contained_rule.split(' ')\n",
    "            n = 0 if words[0] == \"no\" else int(words[0])\n",
    "            colour = \" \".join(words[1:])\n",
    "            colour = colour if n > 0 else \"no other\"\n",
    "            self.containment_tree[outer][colour]=n\n",
    "    \n",
    "    \n",
    "    def find_in_tree(self, target_color):\n",
    "        outers = set()\n",
    "        def search_subtree(for_colour):\n",
    "            for outer in self.containment_tree:\n",
    "                if for_colour in self.containment_tree[outer]:\n",
    "                    outers.add(outer)\n",
    "                    search_subtree(outer)\n",
    "        search_subtree(target_color)\n",
    "        return len(outers)\n",
    "    \n",
    "    \n",
    "    def n_in_children(self, outer_bag):\n",
    "        total_children = 1\n",
    "        for inner_bag in parser.containment_tree[outer_bag]:\n",
    "            n_this_colour = parser.containment_tree[outer_bag][inner_bag]\n",
    "            n_children = self.n_in_children(inner_bag)\n",
    "            total_children += n_this_colour * n_children\n",
    "        return total_children\n",
    "    \n",
    "    \n",
    "    def find_containees(colour):\n",
    "        containers = []\n",
    "        for outer, inner in self.containment_tree.items():\n",
    "            if colour in inner.keys():\n",
    "                containers.append(outer)\n",
    "                "
   ]
  },
  {
   "cell_type": "markdown",
   "metadata": {},
   "source": [
    "```\n",
    "drab gold bags contain 5 wavy chartreuse bags.\n",
    "plaid yellow bags contain 4 faded plum bags, 1 faded indigo bag, 2 drab purple bags, 1 light purple bag.\n",
    "bright black bags contain 2 clear yellow bags, 1 dotted red bag, 4 dim white bags.\n",
    "pale maroon bags contain 2 vibrant tomato bags, 3 mirrored tomato bags.\n",
    "wavy gray bags contain 2 wavy cyan bags, 2 dark tomato bags, 4 vibrant orange bags, 5 pale silver bags.\n",
    "faded salmon bags contain 4 bright plum bags.\n",
    "```"
   ]
  },
  {
   "cell_type": "code",
   "execution_count": 96,
   "metadata": {},
   "outputs": [],
   "source": [
    "parser = RuleParser()\n",
    "\n",
    "with open (\"day_07/input.txt\", \"r\") as input:\n",
    "    for row in input:\n",
    "        parser.parse_row(row)"
   ]
  },
  {
   "cell_type": "code",
   "execution_count": 97,
   "metadata": {
    "scrolled": true
   },
   "outputs": [
    {
     "data": {
      "text/plain": [
       "272"
      ]
     },
     "execution_count": 97,
     "metadata": {},
     "output_type": "execute_result"
    }
   ],
   "source": [
    "parser.find_in_tree('shiny gold')"
   ]
  },
  {
   "cell_type": "code",
   "execution_count": 100,
   "metadata": {},
   "outputs": [
    {
     "data": {
      "text/plain": [
       "172246"
      ]
     },
     "execution_count": 100,
     "metadata": {},
     "output_type": "execute_result"
    }
   ],
   "source": [
    "parser.n_in_children('shiny gold') - 1\n",
    "    \n",
    "    "
   ]
  },
  {
   "cell_type": "markdown",
   "metadata": {},
   "source": [
    "# Day 8"
   ]
  },
  {
   "cell_type": "code",
   "execution_count": 196,
   "metadata": {},
   "outputs": [],
   "source": [
    "bootcode = [r.strip() for r in open('day_08/input.txt')]"
   ]
  },
  {
   "cell_type": "code",
   "execution_count": 197,
   "metadata": {},
   "outputs": [
    {
     "name": "stdout",
     "output_type": "stream",
     "text": [
      "(1675, False)\n"
     ]
    }
   ],
   "source": [
    "def boot(bootcode):\n",
    "    acc = 0\n",
    "    visited = set()\n",
    "    pos = 0\n",
    "\n",
    "    while True:\n",
    "        if pos >= len(bootcode):\n",
    "            return (acc, True)\n",
    "            print(pos)\n",
    "            break\n",
    "        if pos in visited:\n",
    "            return (acc, False)\n",
    "        op, n = bootcode[pos].split(' ')\n",
    "        n = int(n)\n",
    "        visited.add(pos)\n",
    "        if op == \"nop\":\n",
    "            pos += 1\n",
    "        elif op == \"acc\":\n",
    "            acc += n\n",
    "            pos += 1\n",
    "        elif op == \"jmp\":\n",
    "            pos += n    \n",
    "        \n",
    "print(boot(bootcode))\n",
    "    "
   ]
  },
  {
   "cell_type": "code",
   "execution_count": 198,
   "metadata": {},
   "outputs": [],
   "source": [
    "def swap_op(line):\n",
    "    op, n = line.split(' ')\n",
    "    if op == \"nop\": op = \"jmp\"\n",
    "    elif op == \"jmp\": op = \"nop\"\n",
    "    # leave acc unaffected\n",
    "    return \" \".join((op, n))\n",
    "    #return \"jmp\" if op == \"nop\" else \"nop\"\n",
    "\n",
    "def Fix(bootcode):\n",
    "    val, terminated = boot(bootcode)\n",
    "    if terminated: return val, terminated\n",
    "    for i, l in enumerate(bootcode):\n",
    "        code_copy = [l for l in bootcode]\n",
    "        code_copy[i] = swap_op(l)\n",
    "        val, terminated = boot(code_copy)\n",
    "        if terminated: return val, terminated\n",
    "        #bootcode[i] = swap_op(l)\n",
    "    return \"Uh oh\"\n",
    "    "
   ]
  },
  {
   "cell_type": "code",
   "execution_count": 199,
   "metadata": {},
   "outputs": [
    {
     "data": {
      "text/plain": [
       "(1532, True)"
      ]
     },
     "execution_count": 199,
     "metadata": {},
     "output_type": "execute_result"
    }
   ],
   "source": [
    "Fix(bootcode)"
   ]
  },
  {
   "cell_type": "markdown",
   "metadata": {},
   "source": [
    "# Day 9"
   ]
  },
  {
   "cell_type": "code",
   "execution_count": 146,
   "metadata": {},
   "outputs": [],
   "source": [
    "from collections import deque"
   ]
  },
  {
   "cell_type": "code",
   "execution_count": 176,
   "metadata": {},
   "outputs": [],
   "source": [
    "with open('day_09/input.txt', 'r') as inp:\n",
    "    lines = [int(l.strip()) for l in inp]"
   ]
  },
  {
   "cell_type": "code",
   "execution_count": 177,
   "metadata": {},
   "outputs": [],
   "source": [
    "queue = deque(lines[:25], 25)"
   ]
  },
  {
   "cell_type": "code",
   "execution_count": 178,
   "metadata": {},
   "outputs": [],
   "source": [
    "def is_summable_to(n, iterable):\n",
    "    seen = set()\n",
    "    for x in iterable:\n",
    "        target = n - x\n",
    "        if target in seen:\n",
    "            return True\n",
    "        seen.add(x)\n",
    "    return False"
   ]
  },
  {
   "cell_type": "code",
   "execution_count": 179,
   "metadata": {},
   "outputs": [
    {
     "name": "stdout",
     "output_type": "stream",
     "text": [
      "Answer is 85848519 at row 528\n"
     ]
    }
   ],
   "source": [
    "for i, n in enumerate(lines[25:]):\n",
    "    if is_summable_to(n, queue):\n",
    "        queue.append(n)\n",
    "    else:\n",
    "        target_weakness = n\n",
    "        print(f\"Answer is {target_weakness} at row {i}\")\n",
    "        break"
   ]
  },
  {
   "cell_type": "code",
   "execution_count": 186,
   "metadata": {},
   "outputs": [
    {
     "name": "stdout",
     "output_type": "stream",
     "text": [
      "Sequence of length 17 ending at pos 455 sums to 85848519. \n",
      "            Smallest/largest items are 3421814, 9992384 so answer is 13414198\n"
     ]
    }
   ],
   "source": [
    "for test_len in range(2, len(lines)):\n",
    "    queue = deque(lines[:test_len], test_len)\n",
    "    for pos in range(test_len, len(lines)):\n",
    "        if sum(queue) == target_weakness:\n",
    "            w_0 = min(queue)\n",
    "            w_1 = max(queue)\n",
    "            print(f\"\"\"Sequence of length {test_len} ending at pos {pos} sums to {target_weakness}. \n",
    "            Smallest/largest items are {w_0}, {w_1} so answer is {w_0+w_1}\"\"\")\n",
    "            break\n",
    "        else:\n",
    "            queue.append(lines[pos])\n"
   ]
  },
  {
   "cell_type": "code",
   "execution_count": 185,
   "metadata": {},
   "outputs": [
    {
     "data": {
      "text/plain": [
       "85848519"
      ]
     },
     "execution_count": 185,
     "metadata": {},
     "output_type": "execute_result"
    }
   ],
   "source": [
    "sum(lines[455-17:455])"
   ]
  },
  {
   "cell_type": "code",
   "execution_count": null,
   "metadata": {},
   "outputs": [],
   "source": []
  }
 ],
 "metadata": {
  "kernelspec": {
   "display_name": "Python 3",
   "language": "python",
   "name": "python3"
  },
  "language_info": {
   "codemirror_mode": {
    "name": "ipython",
    "version": 3
   },
   "file_extension": ".py",
   "mimetype": "text/x-python",
   "name": "python",
   "nbconvert_exporter": "python",
   "pygments_lexer": "ipython3",
   "version": "3.8.5"
  }
 },
 "nbformat": 4,
 "nbformat_minor": 4
}
